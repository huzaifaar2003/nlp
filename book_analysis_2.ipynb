{
 "cells": [
  {
   "cell_type": "code",
   "execution_count": 1,
   "id": "9a5e51e0-a5d0-4946-9c29-a3333090eed7",
   "metadata": {},
   "outputs": [],
   "source": [
    "import re\n",
    "import pandas\n"
   ]
  },
  {
   "cell_type": "code",
   "execution_count": 2,
   "id": "e67ffc17-798d-4b3d-97bf-e035a3920442",
   "metadata": {},
   "outputs": [],
   "source": [
    "with open(\"miracle_in_the_andes.txt\", \"r\", encoding = \"utf-8\") as file:\n",
    "    book = file.read()"
   ]
  },
  {
   "cell_type": "code",
   "execution_count": 3,
   "id": "5c3c55b9-13c0-45dc-8914-463ca0d16082",
   "metadata": {},
   "outputs": [],
   "source": [
    "dict_words_reps = {}\n",
    "\n",
    "pattern = re.compile(\"[A-Za-z]+\")\n",
    "findings = re.findall(pattern, book.lower())"
   ]
  },
  {
   "cell_type": "code",
   "execution_count": 4,
   "id": "6f118875-39a5-4946-80d9-2cae548d8cdc",
   "metadata": {},
   "outputs": [],
   "source": [
    "for word in findings:\n",
    "    if word in dict_words_reps.keys():\n",
    "        dict_words_reps[word] = dict_words_reps[word] + 1\n",
    "    else:\n",
    "        dict_words_reps[word] = 1"
   ]
  },
  {
   "cell_type": "code",
   "execution_count": 5,
   "id": "ccb863f7-361b-4cb2-9d9e-191f30d186e9",
   "metadata": {},
   "outputs": [],
   "source": [
    "list_reps_words = [(value, key) for (key, value) in dict_words_reps.items()]"
   ]
  },
  {
   "cell_type": "code",
   "execution_count": 6,
   "id": "b14094e9-8dd6-40de-9d7c-03335c8c509e",
   "metadata": {},
   "outputs": [],
   "source": [
    "sorted_list_reps_words = sorted(list_reps_words, reverse = True)"
   ]
  }
 ],
 "metadata": {
  "kernelspec": {
   "display_name": "Python 3 (ipykernel)",
   "language": "python",
   "name": "python3"
  },
  "language_info": {
   "codemirror_mode": {
    "name": "ipython",
    "version": 3
   },
   "file_extension": ".py",
   "mimetype": "text/x-python",
   "name": "python",
   "nbconvert_exporter": "python",
   "pygments_lexer": "ipython3",
   "version": "3.13.1"
  }
 },
 "nbformat": 4,
 "nbformat_minor": 5
}
