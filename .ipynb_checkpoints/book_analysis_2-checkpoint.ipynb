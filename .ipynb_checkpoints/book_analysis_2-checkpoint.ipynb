{
 "cells": [
  {
   "cell_type": "code",
   "execution_count": 1,
   "id": "9a5e51e0-a5d0-4946-9c29-a3333090eed7",
   "metadata": {},
   "outputs": [],
   "source": [
    "import re\n",
    "import pandas\n"
   ]
  },
  {
   "cell_type": "code",
   "execution_count": 2,
   "id": "e67ffc17-798d-4b3d-97bf-e035a3920442",
   "metadata": {},
   "outputs": [],
   "source": [
    "with open(\"miracle_in_the_andes.txt\", \"r\", encoding = \"utf-8\") as file:\n",
    "    book = file.read()"
   ]
  },
  {
   "cell_type": "code",
   "execution_count": 3,
   "id": "5c3c55b9-13c0-45dc-8914-463ca0d16082",
   "metadata": {},
   "outputs": [],
   "source": [
    "dict_words_reps = {}\n",
    "\n",
    "pattern = re.compile(\"[A-Za-z]+\")\n",
    "findings = re.findall(pattern, book.lower())"
   ]
  },
  {
   "cell_type": "code",
   "execution_count": 4,
   "id": "6f118875-39a5-4946-80d9-2cae548d8cdc",
   "metadata": {},
   "outputs": [],
   "source": [
    "for word in findings:\n",
    "    if word in dict_words_reps.keys():\n",
    "        dict_words_reps[word] = dict_words_reps[word] + 1\n",
    "    else:\n",
    "        dict_words_reps[word] = 1"
   ]
  },
  {
   "cell_type": "code",
   "execution_count": 5,
   "id": "ccb863f7-361b-4cb2-9d9e-191f30d186e9",
   "metadata": {},
   "outputs": [],
   "source": [
    "list_reps_words = [(value, key) for (key, value) in dict_words_reps.items()]"
   ]
  },
  {
   "cell_type": "code",
   "execution_count": 6,
   "id": "b14094e9-8dd6-40de-9d7c-03335c8c509e",
   "metadata": {},
   "outputs": [],
   "source": [
    "sorted_list_reps_words = sorted(list_reps_words, reverse = True)"
   ]
  },
  {
   "cell_type": "code",
   "execution_count": 7,
   "id": "2ceeb770-26fc-43dd-ae89-ad7efbe7aa5f",
   "metadata": {},
   "outputs": [
    {
     "data": {
      "text/plain": [
       "'3.13.1'"
      ]
     },
     "execution_count": 7,
     "metadata": {},
     "output_type": "execute_result"
    }
   ],
   "source": [
    "from platform import python_version\n",
    "python_version()"
   ]
  },
  {
   "cell_type": "code",
   "execution_count": 8,
   "id": "7ce0679a-3b31-40cf-9593-e44e38ac89de",
   "metadata": {},
   "outputs": [
    {
     "name": "stdout",
     "output_type": "stream",
     "text": [
      "Requirement already satisfied: nltk in f:\\pythonprojects\\nlp\\.venv\\lib\\site-packages (3.9.1)\n",
      "Requirement already satisfied: click in f:\\pythonprojects\\nlp\\.venv\\lib\\site-packages (from nltk) (8.2.1)\n",
      "Requirement already satisfied: joblib in f:\\pythonprojects\\nlp\\.venv\\lib\\site-packages (from nltk) (1.5.1)\n",
      "Requirement already satisfied: regex>=2021.8.3 in f:\\pythonprojects\\nlp\\.venv\\lib\\site-packages (from nltk) (2024.11.6)\n",
      "Requirement already satisfied: tqdm in f:\\pythonprojects\\nlp\\.venv\\lib\\site-packages (from nltk) (4.67.1)\n",
      "Requirement already satisfied: colorama in f:\\pythonprojects\\nlp\\.venv\\lib\\site-packages (from click->nltk) (0.4.6)\n"
     ]
    },
    {
     "name": "stderr",
     "output_type": "stream",
     "text": [
      "\n",
      "[notice] A new release of pip is available: 23.2.1 -> 25.1.1\n",
      "[notice] To update, run: python.exe -m pip install --upgrade pip\n"
     ]
    }
   ],
   "source": [
    "!pip3.13 install nltk"
   ]
  },
  {
   "cell_type": "code",
   "execution_count": 12,
   "id": "4abeb770-13be-4d59-9b46-29658e7fb55c",
   "metadata": {},
   "outputs": [
    {
     "ename": "ModuleNotFoundError",
     "evalue": "No module named 'nltk'",
     "output_type": "error",
     "traceback": [
      "\u001b[31m---------------------------------------------------------------------------\u001b[39m",
      "\u001b[31mModuleNotFoundError\u001b[39m                       Traceback (most recent call last)",
      "\u001b[36mCell\u001b[39m\u001b[36m \u001b[39m\u001b[32mIn[12]\u001b[39m\u001b[32m, line 1\u001b[39m\n\u001b[32m----> \u001b[39m\u001b[32m1\u001b[39m \u001b[38;5;28;01mimport\u001b[39;00m\u001b[38;5;250m \u001b[39m\u001b[34;01mnltk\u001b[39;00m\n\u001b[32m      2\u001b[39m nltk.download(\u001b[33m'\u001b[39m\u001b[33mstopwords\u001b[39m\u001b[33m'\u001b[39m)\n\u001b[32m      3\u001b[39m \u001b[38;5;28;01mfrom\u001b[39;00m\u001b[38;5;250m \u001b[39m\u001b[34;01mnltk\u001b[39;00m\u001b[34;01m.\u001b[39;00m\u001b[34;01mcorpus\u001b[39;00m\u001b[38;5;250m \u001b[39m\u001b[38;5;28;01mimport\u001b[39;00m stopwords\n",
      "\u001b[31mModuleNotFoundError\u001b[39m: No module named 'nltk'"
     ]
    }
   ],
   "source": [
    "import nltk\n",
    "nltk.download('stopwords')\n",
    "from nltk.corpus import stopwords\n",
    "english_stopwords = stopwords.words(\"english\")"
   ]
  },
  {
   "cell_type": "code",
   "execution_count": null,
   "id": "bbb6f79e-323c-4eca-b0df-cd7b0d65157b",
   "metadata": {},
   "outputs": [],
   "source": []
  },
  {
   "cell_type": "code",
   "execution_count": null,
   "id": "89347eaa-6699-4fc4-b941-c64f5d7e6a4c",
   "metadata": {},
   "outputs": [],
   "source": []
  }
 ],
 "metadata": {
  "kernelspec": {
   "display_name": "Python 3 (ipykernel)",
   "language": "python",
   "name": "python3"
  },
  "language_info": {
   "codemirror_mode": {
    "name": "ipython",
    "version": 3
   },
   "file_extension": ".py",
   "mimetype": "text/x-python",
   "name": "python",
   "nbconvert_exporter": "python",
   "pygments_lexer": "ipython3",
   "version": "3.13.1"
  }
 },
 "nbformat": 4,
 "nbformat_minor": 5
}
